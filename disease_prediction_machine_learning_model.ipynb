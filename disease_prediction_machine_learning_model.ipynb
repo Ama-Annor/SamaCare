{
 "cells": [
  {
   "cell_type": "code",
   "execution_count": null,
   "id": "initial_id",
   "metadata": {
    "collapsed": true
   },
   "outputs": [],
   "source": [
    "import pandas as pd\n",
    "import numpy as np\n",
    "from sklearn.model_selection import train_test_split\n",
    "from sklearn.preprocessing import LabelEncoder\n",
    "from sklearn.ensemble import RandomForestClassifier\n",
    "from sklearn.metrics import accuracy_score, classification_report\n",
    "from sklearn.preprocessing import MultiLabelBinarizer\n",
    "import warnings\n",
    "warnings.filterwarnings('ignore')"
   ]
  },
  {
   "metadata": {},
   "cell_type": "code",
   "outputs": [],
   "execution_count": null,
   "source": [
    "# Load dataset\n",
    "df = pd.read_csv('ghana_disease_symptoms.csv')"
   ],
   "id": "975ac7de9cff0789"
  },
  {
   "metadata": {},
   "cell_type": "code",
   "outputs": [],
   "execution_count": null,
   "source": [
    "# Collect all unique symptoms\n",
    "all_symptoms = set()\n",
    "for col in df.columns[1:]:\n",
    "    all_symptoms.update(df[col].dropna().unique())"
   ],
   "id": "705d498f536fc582"
  },
  {
   "metadata": {},
   "cell_type": "code",
   "outputs": [],
   "execution_count": null,
   "source": [
    "# Convert diseases to symptom lists\n",
    "disease_symptoms = {}\n",
    "for _, row in df.iterrows():\n",
    "    symptoms = [s for s in row[1:] if pd.notna(s)]\n",
    "    disease_symptoms[row['Disease']] = symptoms"
   ],
   "id": "5863d8d75c20f95d"
  },
  {
   "metadata": {},
   "cell_type": "code",
   "outputs": [],
   "execution_count": null,
   "source": [
    "# Create binary features\n",
    "mlb = MultiLabelBinarizer()\n",
    "X = mlb.fit_transform(disease_symptoms.values())\n",
    "y = list(disease_symptoms.keys())"
   ],
   "id": "dd63c9a30761ee2b"
  },
  {
   "metadata": {},
   "cell_type": "code",
   "outputs": [],
   "execution_count": null,
   "source": [
    "# Create DataFrame\n",
    "symptoms_df = pd.DataFrame(X, columns=mlb.classes_)\n",
    "symptoms_df['Disease'] = y"
   ],
   "id": "110a930fbd623f44"
  },
  {
   "metadata": {},
   "cell_type": "code",
   "outputs": [],
   "execution_count": null,
   "source": [
    "# Split data\n",
    "X = symptoms_df.drop('Disease', axis=1)\n",
    "y = symptoms_df['Disease']"
   ],
   "id": "6b0c9e7018f61a4c"
  },
  {
   "metadata": {},
   "cell_type": "code",
   "outputs": [],
   "execution_count": null,
   "source": [
    "# Encode labels\n",
    "le = LabelEncoder()\n",
    "y_encoded = le.fit_transform(y)"
   ],
   "id": "f65ab958c94f2875"
  },
  {
   "metadata": {},
   "cell_type": "code",
   "outputs": [],
   "execution_count": null,
   "source": [
    "# Split into train/test sets\n",
    "X_train, X_test, y_train, y_test = train_test_split(\n",
    "    X, y_encoded, test_size=0.2, random_state=42\n",
    ")"
   ],
   "id": "76ceaced96abd144"
  },
  {
   "metadata": {},
   "cell_type": "code",
   "outputs": [],
   "execution_count": null,
   "source": [
    "# Initialize and train Random Forest\n",
    "model = RandomForestClassifier(n_estimators=100, random_state=42)\n",
    "model.fit(X_train, y_train)"
   ],
   "id": "5190571d0aadce72"
  },
  {
   "metadata": {},
   "cell_type": "code",
   "outputs": [],
   "execution_count": null,
   "source": [
    "# Evaluate\n",
    "y_pred = model.predict(X_test)\n",
    "print(f\"Accuracy: {accuracy_score(y_test, y_pred):.2f}\")\n",
    "print(\"\\nClassification Report:\")\n",
    "print(classification_report(y_test, y_pred, target_names=le.classes_))"
   ],
   "id": "ce5dd666069ca9df"
  },
  {
   "metadata": {},
   "cell_type": "code",
   "outputs": [],
   "execution_count": null,
   "source": [
    "def predict_disease(symptoms):\n",
    "    # Create input vector\n",
    "    input_vector = np.zeros(len(mlb.classes_))\n",
    "    for symptom in symptoms:\n",
    "        if symptom in mlb.classes_:\n",
    "            idx = list(mlb.classes_).index(symptom)\n",
    "            input_vector[idx] = 1\n",
    "\n",
    "    # Make prediction\n",
    "    prediction = model.predict([input_vector])\n",
    "    return le.inverse_transform(prediction)[0]"
   ],
   "id": "1eeff794a1a88feb"
  },
  {
   "metadata": {},
   "cell_type": "code",
   "outputs": [],
   "execution_count": null,
   "source": [
    "# Example symptoms input\n",
    "test_symptoms = ['Fever', 'Headache', 'Fatigue', 'Muscle Pain']\n",
    "\n",
    "predicted_disease = predict_disease(test_symptoms)\n",
    "print(f\"\\nPredicted Disease: {predicted_disease}\")"
   ],
   "id": "ee1d4d77eac2e21b"
  }
 ],
 "metadata": {
  "kernelspec": {
   "display_name": "Python 3",
   "language": "python",
   "name": "python3"
  },
  "language_info": {
   "codemirror_mode": {
    "name": "ipython",
    "version": 2
   },
   "file_extension": ".py",
   "mimetype": "text/x-python",
   "name": "python",
   "nbconvert_exporter": "python",
   "pygments_lexer": "ipython2",
   "version": "2.7.6"
  }
 },
 "nbformat": 4,
 "nbformat_minor": 5
}
